{
 "cells": [
  {
   "cell_type": "code",
   "execution_count": 1,
   "metadata": {},
   "outputs": [],
   "source": [
    "import sympy as sp\n",
    "from sympy import init_printing\n",
    "init_printing()\n",
    "import sys\n",
    "from pathlib import Path\n",
    "sys.path.append(str(Path.cwd().parent.parent))\n",
    "from cores.dynamical_systems.inverted_pendulum import InvertedPendulum\n",
    "import torch\n",
    "import numpy as np"
   ]
  },
  {
   "cell_type": "code",
   "execution_count": 2,
   "metadata": {},
   "outputs": [],
   "source": [
    "mass = 1.0\n",
    "length = 1.0\n",
    "viscous_friction = 0.1\n",
    "gravity = 9.81"
   ]
  },
  {
   "cell_type": "code",
   "execution_count": 3,
   "metadata": {},
   "outputs": [],
   "source": [
    "system_torch = InvertedPendulum(mass=mass, length=length, viscous_friction=viscous_friction, dtype=torch.float32)"
   ]
  },
  {
   "cell_type": "code",
   "execution_count": 4,
   "metadata": {},
   "outputs": [],
   "source": [
    "theta, theta_dot = sp.symbols(r'\\theta \\dot{\\theta}')\n",
    "u = sp.symbols(r'u')\n",
    "states = sp.Matrix([theta, theta_dot])\n",
    "controls = sp.Matrix([u])"
   ]
  },
  {
   "cell_type": "code",
   "execution_count": 5,
   "metadata": {},
   "outputs": [],
   "source": [
    "f1 = theta_dot\n",
    "sin_theta = sp.sin(theta)\n",
    "\n",
    "f2 = gravity / length * sin_theta + u / (mass * length ** 2) - viscous_friction / (mass * length ** 2) * theta_dot\n",
    "f = sp.Matrix([f1, f2])"
   ]
  },
  {
   "cell_type": "markdown",
   "metadata": {},
   "source": [
    "# Test f(x,u)"
   ]
  },
  {
   "cell_type": "code",
   "execution_count": 6,
   "metadata": {},
   "outputs": [
    {
     "name": "stdout",
     "output_type": "stream",
     "text": [
      "[[ 2.       ]\n",
      " [11.0548315]]\n"
     ]
    }
   ],
   "source": [
    "f_func = sp.lambdify((states, controls), f)\n",
    "state_np = np.array([1., 2.], dtype=np.float32)\n",
    "control_np = np.array([3.], dtype=np.float32)\n",
    "print(f_func(state_np, control_np))\n"
   ]
  },
  {
   "cell_type": "code",
   "execution_count": 7,
   "metadata": {},
   "outputs": [
    {
     "name": "stdout",
     "output_type": "stream",
     "text": [
      "tensor([[ 2.0000, 11.0548]])\n"
     ]
    }
   ],
   "source": [
    "state_torch = torch.tensor(state_np, dtype=torch.float32).unsqueeze(0)\n",
    "control_torch = torch.tensor(control_np, dtype=torch.float32).unsqueeze(0)\n",
    "f_torch = system_torch(state_torch, control_torch)\n",
    "print(f_torch)"
   ]
  },
  {
   "cell_type": "markdown",
   "metadata": {},
   "source": [
    "# Test df/dx"
   ]
  },
  {
   "cell_type": "code",
   "execution_count": 10,
   "metadata": {},
   "outputs": [
    {
     "name": "stdout",
     "output_type": "stream",
     "text": [
      "[[ 0.          1.        ]\n",
      " [ 5.30036545 -0.1       ]]\n"
     ]
    }
   ],
   "source": [
    "df_dx = f.jacobian(states)\n",
    "df_dx_func = sp.lambdify((states, controls), df_dx)\n",
    "print(df_dx_func(state_np, control_np))"
   ]
  },
  {
   "cell_type": "code",
   "execution_count": 11,
   "metadata": {},
   "outputs": [
    {
     "name": "stdout",
     "output_type": "stream",
     "text": [
      "tensor([[[ 0.0000,  1.0000],\n",
      "         [ 5.3004, -0.1000]]])\n"
     ]
    }
   ],
   "source": [
    "df_dx_torch = system_torch.f_dx(state_torch, control_torch)\n",
    "print(df_dx_torch)"
   ]
  },
  {
   "cell_type": "markdown",
   "metadata": {},
   "source": [
    "# Test df/du"
   ]
  },
  {
   "cell_type": "code",
   "execution_count": 12,
   "metadata": {},
   "outputs": [
    {
     "name": "stdout",
     "output_type": "stream",
     "text": [
      "[[0.]\n",
      " [1.]]\n"
     ]
    }
   ],
   "source": [
    "df_du = f.jacobian(controls)\n",
    "df_du_func = sp.lambdify((states, controls), df_du)\n",
    "print(df_du_func(state_np, control_np))"
   ]
  },
  {
   "cell_type": "code",
   "execution_count": 13,
   "metadata": {},
   "outputs": [
    {
     "name": "stdout",
     "output_type": "stream",
     "text": [
      "tensor([[[0.],\n",
      "         [1.]]])\n"
     ]
    }
   ],
   "source": [
    "df_du_torch = system_torch.f_du(state_torch, control_torch)\n",
    "print(df_du_torch)"
   ]
  },
  {
   "cell_type": "markdown",
   "metadata": {},
   "source": [
    "# d^2f/dx^2"
   ]
  },
  {
   "cell_type": "code",
   "execution_count": 14,
   "metadata": {},
   "outputs": [
    {
     "name": "stdout",
     "output_type": "stream",
     "text": [
      "Matrix([[0, 0], [0, 0]])\n"
     ]
    }
   ],
   "source": [
    "f1_dxdx = f1.diff(states).jacobian(states)\n",
    "print(f1_dxdx)"
   ]
  },
  {
   "cell_type": "code",
   "execution_count": 15,
   "metadata": {},
   "outputs": [
    {
     "name": "stdout",
     "output_type": "stream",
     "text": [
      "Matrix([[-9.81*sin(\\theta), 0], [0, 0]])\n"
     ]
    }
   ],
   "source": [
    "f2_dxdx = f2.diff(states).jacobian(states)\n",
    "print(f2_dxdx)"
   ]
  }
 ],
 "metadata": {
  "kernelspec": {
   "display_name": "py311_ml",
   "language": "python",
   "name": "python3"
  },
  "language_info": {
   "codemirror_mode": {
    "name": "ipython",
    "version": 3
   },
   "file_extension": ".py",
   "mimetype": "text/x-python",
   "name": "python",
   "nbconvert_exporter": "python",
   "pygments_lexer": "ipython3",
   "version": "3.11.9"
  }
 },
 "nbformat": 4,
 "nbformat_minor": 2
}
