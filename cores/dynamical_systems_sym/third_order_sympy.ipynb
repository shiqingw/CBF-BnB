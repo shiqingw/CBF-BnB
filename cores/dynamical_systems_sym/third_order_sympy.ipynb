{
 "cells": [
  {
   "cell_type": "code",
   "execution_count": 1,
   "metadata": {},
   "outputs": [],
   "source": [
    "import sympy as sp\n",
    "from sympy import init_printing\n",
    "init_printing()\n",
    "import sys\n",
    "from pathlib import Path\n",
    "sys.path.append(str(Path.cwd().parent.parent))\n",
    "from cores.dynamical_systems.strict_feedback_3d import StrictFeedback3D\n",
    "import torch\n",
    "import numpy as np"
   ]
  },
  {
   "cell_type": "code",
   "execution_count": 2,
   "metadata": {},
   "outputs": [],
   "source": [
    "a1 = -1.1\n",
    "a2 = 1.2\n",
    "b1 = -1.3\n",
    "b2 = 1.4\n",
    "c1 = -1.5\n",
    "c2 = 1.6\n"
   ]
  },
  {
   "cell_type": "code",
   "execution_count": 3,
   "metadata": {},
   "outputs": [],
   "source": [
    "system_torch = StrictFeedback3D(a1=a1, a2=a2, b1=b1, b2=b2, c1=c1, c2=c2, dtype=torch.float32)"
   ]
  },
  {
   "cell_type": "code",
   "execution_count": 4,
   "metadata": {},
   "outputs": [],
   "source": [
    "x1, x2, x3 = sp.symbols(r'x_1 x_2 x_3')\n",
    "u = sp.symbols(r'u')\n",
    "states = sp.Matrix([x1, x2, x3])\n",
    "controls = sp.Matrix([u])"
   ]
  },
  {
   "cell_type": "code",
   "execution_count": 5,
   "metadata": {},
   "outputs": [],
   "source": [
    "f1 = a1*x1 + a2*x2\n",
    "f2 = b1*x2 + b2*x3\n",
    "f3 = c1*x3**2 + c2*u\n",
    "\n",
    "f = sp.Matrix([f1, f2, f3])"
   ]
  },
  {
   "cell_type": "markdown",
   "metadata": {},
   "source": [
    "# Test f(x,u)"
   ]
  },
  {
   "cell_type": "code",
   "execution_count": 6,
   "metadata": {},
   "outputs": [
    {
     "name": "stdout",
     "output_type": "stream",
     "text": [
      "[[ 1.3000001]\n",
      " [ 1.5999999]\n",
      " [-8.7      ]]\n"
     ]
    }
   ],
   "source": [
    "f_func = sp.lambdify((states, controls), f)\n",
    "state_np = np.array([1., 2., 3.0], dtype=np.float32)\n",
    "control_np = np.array([3.], dtype=np.float32)\n",
    "print(f_func(state_np, control_np))\n"
   ]
  },
  {
   "cell_type": "code",
   "execution_count": 7,
   "metadata": {},
   "outputs": [
    {
     "name": "stdout",
     "output_type": "stream",
     "text": [
      "tensor([[ 1.3000,  1.6000, -8.7000]])\n"
     ]
    }
   ],
   "source": [
    "state_torch = torch.tensor(state_np, dtype=torch.float32).unsqueeze(0)\n",
    "control_torch = torch.tensor(control_np, dtype=torch.float32).unsqueeze(0)\n",
    "f_torch = system_torch(state_torch, control_torch)\n",
    "print(f_torch)"
   ]
  },
  {
   "cell_type": "markdown",
   "metadata": {},
   "source": [
    "# Test df/dx"
   ]
  },
  {
   "cell_type": "code",
   "execution_count": 8,
   "metadata": {},
   "outputs": [
    {
     "name": "stdout",
     "output_type": "stream",
     "text": [
      "[[-1.1  1.2  0. ]\n",
      " [ 0.  -1.3  1.4]\n",
      " [ 0.   0.  -9. ]]\n"
     ]
    }
   ],
   "source": [
    "df_dx = f.jacobian(states)\n",
    "df_dx_func = sp.lambdify((states, controls), df_dx)\n",
    "print(df_dx_func(state_np, control_np))"
   ]
  },
  {
   "cell_type": "code",
   "execution_count": 9,
   "metadata": {},
   "outputs": [
    {
     "name": "stdout",
     "output_type": "stream",
     "text": [
      "tensor([[[-1.1000,  1.2000,  0.0000],\n",
      "         [ 0.0000, -1.3000,  1.4000],\n",
      "         [ 0.0000,  0.0000, -9.0000]]])\n"
     ]
    }
   ],
   "source": [
    "df_dx_torch = system_torch.f_dx(state_torch, control_torch)\n",
    "print(df_dx_torch)"
   ]
  },
  {
   "cell_type": "markdown",
   "metadata": {},
   "source": [
    "# Test df/du"
   ]
  },
  {
   "cell_type": "code",
   "execution_count": 10,
   "metadata": {},
   "outputs": [
    {
     "name": "stdout",
     "output_type": "stream",
     "text": [
      "[[0. ]\n",
      " [0. ]\n",
      " [1.6]]\n"
     ]
    }
   ],
   "source": [
    "df_du = f.jacobian(controls)\n",
    "df_du_func = sp.lambdify((states, controls), df_du)\n",
    "print(df_du_func(state_np, control_np))"
   ]
  },
  {
   "cell_type": "code",
   "execution_count": 11,
   "metadata": {},
   "outputs": [
    {
     "name": "stdout",
     "output_type": "stream",
     "text": [
      "tensor([[[0.0000],\n",
      "         [0.0000],\n",
      "         [1.6000]]])\n"
     ]
    }
   ],
   "source": [
    "df_du_torch = system_torch.f_du(state_torch, control_torch)\n",
    "print(df_du_torch)"
   ]
  },
  {
   "cell_type": "markdown",
   "metadata": {},
   "source": [
    "# d^2f/dx^2"
   ]
  },
  {
   "cell_type": "code",
   "execution_count": 12,
   "metadata": {},
   "outputs": [
    {
     "name": "stdout",
     "output_type": "stream",
     "text": [
      "Matrix([[0, 0, 0], [0, 0, 0], [0, 0, 0]])\n"
     ]
    }
   ],
   "source": [
    "f1_dxdx = f1.diff(states).jacobian(states)\n",
    "print(f1_dxdx)"
   ]
  },
  {
   "cell_type": "code",
   "execution_count": 13,
   "metadata": {},
   "outputs": [
    {
     "name": "stdout",
     "output_type": "stream",
     "text": [
      "Matrix([[0, 0, 0], [0, 0, 0], [0, 0, 0]])\n"
     ]
    }
   ],
   "source": [
    "f2_dxdx = f2.diff(states).jacobian(states)\n",
    "print(f2_dxdx)"
   ]
  },
  {
   "cell_type": "code",
   "execution_count": 15,
   "metadata": {},
   "outputs": [
    {
     "name": "stdout",
     "output_type": "stream",
     "text": [
      "Matrix([[0, 0, 0], [0, 0, 0], [0, 0, -3.00000000000000]])\n"
     ]
    }
   ],
   "source": [
    "f3_dxdx = f3.diff(states).jacobian(states)\n",
    "print(f3_dxdx)"
   ]
  }
 ],
 "metadata": {
  "kernelspec": {
   "display_name": "py311_ml",
   "language": "python",
   "name": "python3"
  },
  "language_info": {
   "codemirror_mode": {
    "name": "ipython",
    "version": 3
   },
   "file_extension": ".py",
   "mimetype": "text/x-python",
   "name": "python",
   "nbconvert_exporter": "python",
   "pygments_lexer": "ipython3",
   "version": "3.11.9"
  }
 },
 "nbformat": 4,
 "nbformat_minor": 2
}
