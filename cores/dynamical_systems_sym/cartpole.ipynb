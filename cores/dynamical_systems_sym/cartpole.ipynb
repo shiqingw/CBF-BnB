{
 "cells": [
  {
   "cell_type": "code",
   "execution_count": 1,
   "metadata": {},
   "outputs": [],
   "source": [
    "import sympy as sp\n",
    "from sympy import init_printing\n",
    "init_printing()\n",
    "import sys\n",
    "from pathlib import Path\n",
    "sys.path.append(str(Path.cwd().parent.parent))\n",
    "from cores.dynamical_systems.cartpole import CartPole\n",
    "import torch\n",
    "import numpy as np"
   ]
  },
  {
   "cell_type": "code",
   "execution_count": 2,
   "metadata": {},
   "outputs": [],
   "source": [
    "mass_cart = 1.0\n",
    "mass_pole = 0.1\n",
    "length = 0.5"
   ]
  },
  {
   "cell_type": "code",
   "execution_count": 3,
   "metadata": {},
   "outputs": [],
   "source": [
    "system_torch = CartPole(mass_cart=mass_cart, mass_pole=mass_pole, length=length, friction_coef=0.0, dtype=torch.float32)"
   ]
  },
  {
   "cell_type": "code",
   "execution_count": 4,
   "metadata": {},
   "outputs": [],
   "source": [
    "x, theta, x_dot, theta_dot = sp.symbols(r'x \\theta \\dot{x} \\dot{\\theta}')\n",
    "u = sp.symbols(r'u')\n",
    "states = sp.Matrix([x, theta, x_dot, theta_dot])\n",
    "controls = sp.Matrix([u])"
   ]
  },
  {
   "cell_type": "code",
   "execution_count": 5,
   "metadata": {},
   "outputs": [],
   "source": [
    "m_p, m_c, l, g = sp.symbols('m_p m_c l g')\n",
    "params = sp.Matrix([m_c, m_p, l, g])"
   ]
  },
  {
   "cell_type": "code",
   "execution_count": 6,
   "metadata": {},
   "outputs": [],
   "source": [
    "f1 = x_dot\n",
    "f2 = theta_dot\n",
    "f3 = (m_p*sp.sin(theta)*(-l*theta_dot**2) + 0.5*m_p*g*sp.sin(2*theta) + u) / (m_c + m_p*sp.sin(theta)**2)\n",
    "f4 = ((m_p+m_c)*g*sp.sin(theta) - 0.5*m_p*l*theta_dot**2*sp.sin(2*theta) + u*sp.cos(theta)) / (l*(m_c + m_p*sp.sin(theta)**2))\n",
    "f = sp.Matrix([f1, f2, f3, f4])"
   ]
  },
  {
   "cell_type": "code",
   "execution_count": 7,
   "metadata": {},
   "outputs": [
    {
     "data": {
      "image/png": "[encoded data removed]",
      "text/latex": [
       "$\\displaystyle \\left[\\begin{matrix}\\dot{x}\\\\\\dot{\\theta}\\\\\\frac{- \\dot{\\theta}^{2} l m_{p} \\sin{\\left(\\theta \\right)} + 0.5 g m_{p} \\sin{\\left(2 \\theta \\right)} + u}{m_{c} + m_{p} \\sin^{2}{\\left(\\theta \\right)}}\\\\\\frac{- 0.5 \\dot{\\theta}^{2} l m_{p} \\sin{\\left(2 \\theta \\right)} + g \\left(m_{c} + m_{p}\\right) \\sin{\\left(\\theta \\right)} + u \\cos{\\left(\\theta \\right)}}{l \\left(m_{c} + m_{p} \\sin^{2}{\\left(\\theta \\right)}\\right)}\\end{matrix}\\right]$"
      ],
      "text/plain": [
       "⎡                                     \\dot{x}                                  ↪\n",
       "⎢                                                                              ↪\n",
       "⎢                                  \\dot{\\theta}                                ↪\n",
       "⎢                                                                              ↪\n",
       "⎢                        2                                                     ↪\n",
       "⎢          - \\dot{\\theta} ⋅l⋅mₚ⋅sin(\\theta) + 0.5⋅g⋅mₚ⋅sin(2⋅\\theta) + u       ↪\n",
       "⎢          ─────────────────────────────────────────────────────────────       ↪\n",
       "⎢                                          2                                   ↪\n",
       "⎢                              m_c + mₚ⋅sin (\\theta)                           ↪\n",
       "⎢                                                                              ↪\n",
       "⎢                  2                                                           ↪\n",
       "⎢- 0.5⋅\\dot{\\theta} ⋅l⋅mₚ⋅sin(2⋅\\theta) + g⋅(m_c + mₚ)⋅sin(\\theta) + u⋅cos(\\th ↪\n",
       "⎢───────────────────────────────────────────────────────────────────────────── ↪\n",
       "⎢                              ⎛            2        ⎞                         ↪\n",
       "⎣                            l⋅⎝m_c + mₚ⋅sin (\\theta)⎠                         ↪\n",
       "\n",
       "↪     ⎤\n",
       "↪     ⎥\n",
       "↪     ⎥\n",
       "↪     ⎥\n",
       "↪     ⎥\n",
       "↪     ⎥\n",
       "↪     ⎥\n",
       "↪     ⎥\n",
       "↪     ⎥\n",
       "↪     ⎥\n",
       "↪     ⎥\n",
       "↪ eta)⎥\n",
       "↪ ────⎥\n",
       "↪     ⎥\n",
       "↪     ⎦"
      ]
     },
     "execution_count": 7,
     "metadata": {},
     "output_type": "execute_result"
    }
   ],
   "source": [
    "f"
   ]
  },
  {
   "cell_type": "markdown",
   "metadata": {},
   "source": [
    "# Test f(x,u)"
   ]
  },
  {
   "cell_type": "code",
   "execution_count": 8,
   "metadata": {},
   "outputs": [
    {
     "name": "stdout",
     "output_type": "stream",
     "text": [
      "[[ 3.      ]\n",
      " [ 5.      ]\n",
      " [ 1.378213]\n",
      " [16.693336]]\n"
     ]
    }
   ],
   "source": [
    "f_func = sp.lambdify((states, controls, params), f)\n",
    "state_np = np.array([1., 2., 3.0, 5.0], dtype=np.float32)\n",
    "control_np = np.array([3.], dtype=np.float32)\n",
    "params_np = np.array([mass_cart, mass_pole, length, 9.81], dtype=np.float32)\n",
    "print(f_func(state_np, control_np, params_np))\n"
   ]
  },
  {
   "cell_type": "code",
   "execution_count": 9,
   "metadata": {},
   "outputs": [
    {
     "name": "stdout",
     "output_type": "stream",
     "text": [
      "tensor([[ 3.0000,  5.0000,  1.3782, 16.6933]])\n"
     ]
    }
   ],
   "source": [
    "state_torch = torch.tensor(state_np, dtype=torch.float32).unsqueeze(0)\n",
    "control_torch = torch.tensor(control_np, dtype=torch.float32).unsqueeze(0)\n",
    "f_torch = system_torch(state_torch, control_torch)\n",
    "print(f_torch)"
   ]
  },
  {
   "cell_type": "markdown",
   "metadata": {},
   "source": [
    "# Test df/dx"
   ]
  },
  {
   "cell_type": "code",
   "execution_count": 10,
   "metadata": {},
   "outputs": [
    {
     "data": {
      "image/png": "[encoded data removed]",
      "text/latex": [
       "$\\displaystyle \\left[\\begin{matrix}0 & 0 & 1 & 0\\\\0 & 0 & 0 & 1\\\\0 & - \\frac{2 m_{p} \\left(- \\dot{\\theta}^{2} l m_{p} \\sin{\\left(\\theta \\right)} + 0.5 g m_{p} \\sin{\\left(2 \\theta \\right)} + u\\right) \\sin{\\left(\\theta \\right)} \\cos{\\left(\\theta \\right)}}{\\left(m_{c} + m_{p} \\sin^{2}{\\left(\\theta \\right)}\\right)^{2}} + \\frac{- \\dot{\\theta}^{2} l m_{p} \\cos{\\left(\\theta \\right)} + 1.0 g m_{p} \\cos{\\left(2 \\theta \\right)}}{m_{c} + m_{p} \\sin^{2}{\\left(\\theta \\right)}} & 0 & - \\frac{2 \\dot{\\theta} l m_{p} \\sin{\\left(\\theta \\right)}}{m_{c} + m_{p} \\sin^{2}{\\left(\\theta \\right)}}\\\\0 & - \\frac{2 m_{p} \\left(- 0.5 \\dot{\\theta}^{2} l m_{p} \\sin{\\left(2 \\theta \\right)} + g \\left(m_{c} + m_{p}\\right) \\sin{\\left(\\theta \\right)} + u \\cos{\\left(\\theta \\right)}\\right) \\sin{\\left(\\theta \\right)} \\cos{\\left(\\theta \\right)}}{l \\left(m_{c} + m_{p} \\sin^{2}{\\left(\\theta \\right)}\\right)^{2}} + \\frac{- 1.0 \\dot{\\theta}^{2} l m_{p} \\cos{\\left(2 \\theta \\right)} + g \\left(m_{c} + m_{p}\\right) \\cos{\\left(\\theta \\right)} - u \\sin{\\left(\\theta \\right)}}{l \\left(m_{c} + m_{p} \\sin^{2}{\\left(\\theta \\right)}\\right)} & 0 & - \\frac{1.0 \\dot{\\theta} m_{p} \\sin{\\left(2 \\theta \\right)}}{m_{c} + m_{p} \\sin^{2}{\\left(\\theta \\right)}}\\end{matrix}\\right]$"
      ],
      "text/plain": [
       "⎡0                                                                             ↪\n",
       "⎢                                                                              ↪\n",
       "⎢0                                                                             ↪\n",
       "⎢                                                                              ↪\n",
       "⎢                                ⎛              2                              ↪\n",
       "⎢                           2⋅mₚ⋅⎝- \\dot{\\theta} ⋅l⋅mₚ⋅sin(\\theta) + 0.5⋅g⋅mₚ⋅ ↪\n",
       "⎢0                        - ────────────────────────────────────────────────── ↪\n",
       "⎢                                                                              ↪\n",
       "⎢                                                             ⎛            2   ↪\n",
       "⎢                                                             ⎝m_c + mₚ⋅sin (\\ ↪\n",
       "⎢                                                                              ↪\n",
       "⎢          ⎛                  2                                                ↪\n",
       "⎢     2⋅mₚ⋅⎝- 0.5⋅\\dot{\\theta} ⋅l⋅mₚ⋅sin(2⋅\\theta) + g⋅(m_c + mₚ)⋅sin(\\theta)  ↪\n",
       "⎢0  - ──────────────────────────────────────────────────────────────────────── ↪\n",
       "⎢                                                                         2    ↪\n",
       "⎢                                                  ⎛            2        ⎞     ↪\n",
       "⎣                                                l⋅⎝m_c + mₚ⋅sin (\\theta)⎠     ↪\n",
       "\n",
       "↪                         0                                                    ↪\n",
       "↪                                                                              ↪\n",
       "↪                         0                                                    ↪\n",
       "↪                                                                              ↪\n",
       "↪                  ⎞                                         2                 ↪\n",
       "↪ sin(2⋅\\theta) + u⎠⋅sin(\\theta)⋅cos(\\theta)   - \\dot{\\theta} ⋅l⋅mₚ⋅cos(\\theta ↪\n",
       "↪ ────────────────────────────────────────── + ─────────────────────────────── ↪\n",
       "↪        2                                                                   2 ↪\n",
       "↪       ⎞                                                        m_c + mₚ⋅sin  ↪\n",
       "↪ theta)⎠                                                                      ↪\n",
       "↪                                                                              ↪\n",
       "↪                ⎞                                             2               ↪\n",
       "↪ + u⋅cos(\\theta)⎠⋅sin(\\theta)⋅cos(\\theta)   - 1.0⋅\\dot{\\theta} ⋅l⋅mₚ⋅cos(2⋅\\t ↪\n",
       "↪ ──────────────────────────────────────── + ───────────────────────────────── ↪\n",
       "↪                                                                          ⎛   ↪\n",
       "↪                                                                        l⋅⎝m_ ↪\n",
       "↪                                                                              ↪\n",
       "\n",
       "↪                                                   1                   0      ↪\n",
       "↪                                                                              ↪\n",
       "↪                                                   0                   1      ↪\n",
       "↪                                                                              ↪\n",
       "↪                                                                              ↪\n",
       "↪ ) + 1.0⋅g⋅mₚ⋅cos(2⋅\\theta)                            -2⋅\\dot{\\theta}⋅l⋅mₚ⋅s ↪\n",
       "↪ ──────────────────────────                        0   ────────────────────── ↪\n",
       "↪                                                                         2    ↪\n",
       "↪ (\\theta)                                                    m_c + mₚ⋅sin (\\t ↪\n",
       "↪                                                                              ↪\n",
       "↪                                                                              ↪\n",
       "↪                                                                              ↪\n",
       "↪ heta) + g⋅(m_c + mₚ)⋅cos(\\theta) - u⋅sin(\\theta)     -1.0⋅\\dot{\\theta}⋅mₚ⋅si ↪\n",
       "↪ ────────────────────────────────────────────────  0  ─────────────────────── ↪\n",
       "↪           2        ⎞                                                    2    ↪\n",
       "↪ c + mₚ⋅sin (\\theta)⎠                                        m_c + mₚ⋅sin (\\t ↪\n",
       "↪                                                                              ↪\n",
       "\n",
       "↪             ⎤\n",
       "↪             ⎥\n",
       "↪             ⎥\n",
       "↪             ⎥\n",
       "↪             ⎥\n",
       "↪ in(\\theta)  ⎥\n",
       "↪ ─────────── ⎥\n",
       "↪             ⎥\n",
       "↪ heta)       ⎥\n",
       "↪             ⎥\n",
       "↪             ⎥\n",
       "↪             ⎥\n",
       "↪ n(2⋅\\theta) ⎥\n",
       "↪ ────────────⎥\n",
       "↪             ⎥\n",
       "↪ heta)       ⎥\n",
       "↪             ⎦"
      ]
     },
     "execution_count": 10,
     "metadata": {},
     "output_type": "execute_result"
    }
   ],
   "source": [
    "df_dx = f.jacobian(states)\n",
    "df_dx"
   ]
  },
  {
   "cell_type": "code",
   "execution_count": 11,
   "metadata": {},
   "outputs": [
    {
     "name": "stdout",
     "output_type": "stream",
     "text": [
      "[[  0.           0.           1.           0.        ]\n",
      " [  0.           0.           0.           1.        ]\n",
      " [  0.          -0.01545923   0.          -0.41992816]\n",
      " [  0.         -10.65834618   0.           0.34950355]]\n"
     ]
    }
   ],
   "source": [
    "df_dx_func = sp.lambdify((states, controls, params), df_dx)\n",
    "print(df_dx_func(state_np, control_np, params_np))"
   ]
  },
  {
   "cell_type": "code",
   "execution_count": 12,
   "metadata": {},
   "outputs": [
    {
     "name": "stdout",
     "output_type": "stream",
     "text": [
      "tensor([[[  0.0000,   0.0000,   1.0000,   0.0000],\n",
      "         [  0.0000,   0.0000,   0.0000,   1.0000],\n",
      "         [  0.0000,  -0.0155,   0.0000,  -0.4199],\n",
      "         [  0.0000, -10.6583,   0.0000,   0.3495]]])\n"
     ]
    }
   ],
   "source": [
    "df_dx_torch = system_torch.f_dx(state_torch, control_torch)\n",
    "print(df_dx_torch)"
   ]
  },
  {
   "cell_type": "markdown",
   "metadata": {},
   "source": [
    "# Test df/du"
   ]
  },
  {
   "cell_type": "code",
   "execution_count": 13,
   "metadata": {},
   "outputs": [
    {
     "data": {
      "image/png": "[encoded data removed]",
      "text/latex": [
       "$\\displaystyle \\left[\\begin{matrix}0\\\\0\\\\\\frac{1}{m_{c} + m_{p} \\sin^{2}{\\left(\\theta \\right)}}\\\\\\frac{\\cos{\\left(\\theta \\right)}}{l \\left(m_{c} + m_{p} \\sin^{2}{\\left(\\theta \\right)}\\right)}\\end{matrix}\\right]$"
      ],
      "text/plain": [
       "⎡            0            ⎤\n",
       "⎢                         ⎥\n",
       "⎢            0            ⎥\n",
       "⎢                         ⎥\n",
       "⎢            1            ⎥\n",
       "⎢  ─────────────────────  ⎥\n",
       "⎢              2          ⎥\n",
       "⎢  m_c + mₚ⋅sin (\\theta)  ⎥\n",
       "⎢                         ⎥\n",
       "⎢       cos(\\theta)       ⎥\n",
       "⎢─────────────────────────⎥\n",
       "⎢  ⎛            2        ⎞⎥\n",
       "⎣l⋅⎝m_c + mₚ⋅sin (\\theta)⎠⎦"
      ]
     },
     "execution_count": 13,
     "metadata": {},
     "output_type": "execute_result"
    }
   ],
   "source": [
    "df_du = f.jacobian(controls)\n",
    "df_du"
   ]
  },
  {
   "cell_type": "code",
   "execution_count": 14,
   "metadata": {},
   "outputs": [
    {
     "name": "stdout",
     "output_type": "stream",
     "text": [
      "[[ 0.        ]\n",
      " [ 0.        ]\n",
      " [ 0.92363214]\n",
      " [-0.76873314]]\n"
     ]
    }
   ],
   "source": [
    "df_du_func = sp.lambdify((states, controls, params), df_du)\n",
    "print(df_du_func(state_np, control_np, params_np))"
   ]
  },
  {
   "cell_type": "code",
   "execution_count": 15,
   "metadata": {},
   "outputs": [
    {
     "name": "stdout",
     "output_type": "stream",
     "text": [
      "tensor([[[ 0.0000],\n",
      "         [ 0.0000],\n",
      "         [ 0.9236],\n",
      "         [-0.7687]]])\n"
     ]
    }
   ],
   "source": [
    "df_du_torch = system_torch.f_du(state_torch, control_torch)\n",
    "print(df_du_torch)"
   ]
  },
  {
   "cell_type": "markdown",
   "metadata": {},
   "source": [
    "# d^2f/dx^2"
   ]
  },
  {
   "cell_type": "code",
   "execution_count": 16,
   "metadata": {},
   "outputs": [
    {
     "data": {
      "image/png": "[encoded data removed]",
      "text/latex": [
       "$\\displaystyle \\left[\\begin{matrix}0 & 0 & 0 & 0\\\\0 & 0 & 0 & 0\\\\0 & 0 & 0 & 0\\\\0 & 0 & 0 & 0\\end{matrix}\\right]$"
      ],
      "text/plain": [
       "⎡0  0  0  0⎤\n",
       "⎢          ⎥\n",
       "⎢0  0  0  0⎥\n",
       "⎢          ⎥\n",
       "⎢0  0  0  0⎥\n",
       "⎢          ⎥\n",
       "⎣0  0  0  0⎦"
      ]
     },
     "execution_count": 16,
     "metadata": {},
     "output_type": "execute_result"
    }
   ],
   "source": [
    "f1_dxdx = f1.diff(states).jacobian(states)\n",
    "f1_dxdx"
   ]
  },
  {
   "cell_type": "code",
   "execution_count": 17,
   "metadata": {},
   "outputs": [
    {
     "data": {
      "image/png": "[encoded data removed]",
      "text/latex": [
       "$\\displaystyle \\left[\\begin{matrix}0 & 0 & 0 & 0\\\\0 & 0 & 0 & 0\\\\0 & 0 & 0 & 0\\\\0 & 0 & 0 & 0\\end{matrix}\\right]$"
      ],
      "text/plain": [
       "⎡0  0  0  0⎤\n",
       "⎢          ⎥\n",
       "⎢0  0  0  0⎥\n",
       "⎢          ⎥\n",
       "⎢0  0  0  0⎥\n",
       "⎢          ⎥\n",
       "⎣0  0  0  0⎦"
      ]
     },
     "execution_count": 17,
     "metadata": {},
     "output_type": "execute_result"
    }
   ],
   "source": [
    "f2_dxdx = f2.diff(states).jacobian(states)\n",
    "f2_dxdx"
   ]
  },
  {
   "cell_type": "code",
   "execution_count": 18,
   "metadata": {},
   "outputs": [
    {
     "data": {
      "image/png": "[encoded data removed]",
      "text/latex": [
       "$\\displaystyle \\left[\\begin{matrix}0 & 0 & 0 & 0\\\\0 & \\frac{8 m_{p}^{2} \\left(- \\dot{\\theta}^{2} l m_{p} \\sin{\\left(\\theta \\right)} + 0.5 g m_{p} \\sin{\\left(2 \\theta \\right)} + u\\right) \\sin^{2}{\\left(\\theta \\right)} \\cos^{2}{\\left(\\theta \\right)}}{\\left(m_{c} + m_{p} \\sin^{2}{\\left(\\theta \\right)}\\right)^{3}} - \\frac{4 m_{p} \\left(- \\dot{\\theta}^{2} l m_{p} \\cos{\\left(\\theta \\right)} + 1.0 g m_{p} \\cos{\\left(2 \\theta \\right)}\\right) \\sin{\\left(\\theta \\right)} \\cos{\\left(\\theta \\right)}}{\\left(m_{c} + m_{p} \\sin^{2}{\\left(\\theta \\right)}\\right)^{2}} + \\frac{2 m_{p} \\left(- \\dot{\\theta}^{2} l m_{p} \\sin{\\left(\\theta \\right)} + 0.5 g m_{p} \\sin{\\left(2 \\theta \\right)} + u\\right) \\sin^{2}{\\left(\\theta \\right)}}{\\left(m_{c} + m_{p} \\sin^{2}{\\left(\\theta \\right)}\\right)^{2}} - \\frac{2 m_{p} \\left(- \\dot{\\theta}^{2} l m_{p} \\sin{\\left(\\theta \\right)} + 0.5 g m_{p} \\sin{\\left(2 \\theta \\right)} + u\\right) \\cos^{2}{\\left(\\theta \\right)}}{\\left(m_{c} + m_{p} \\sin^{2}{\\left(\\theta \\right)}\\right)^{2}} + \\frac{\\dot{\\theta}^{2} l m_{p} \\sin{\\left(\\theta \\right)} - 2.0 g m_{p} \\sin{\\left(2 \\theta \\right)}}{m_{c} + m_{p} \\sin^{2}{\\left(\\theta \\right)}} & 0 & \\frac{4 \\dot{\\theta} l m_{p}^{2} \\sin^{2}{\\left(\\theta \\right)} \\cos{\\left(\\theta \\right)}}{\\left(m_{c} + m_{p} \\sin^{2}{\\left(\\theta \\right)}\\right)^{2}} - \\frac{2 \\dot{\\theta} l m_{p} \\cos{\\left(\\theta \\right)}}{m_{c} + m_{p} \\sin^{2}{\\left(\\theta \\right)}}\\\\0 & 0 & 0 & 0\\\\0 & \\frac{4 \\dot{\\theta} l m_{p}^{2} \\sin^{2}{\\left(\\theta \\right)} \\cos{\\left(\\theta \\right)}}{\\left(m_{c} + m_{p} \\sin^{2}{\\left(\\theta \\right)}\\right)^{2}} - \\frac{2 \\dot{\\theta} l m_{p} \\cos{\\left(\\theta \\right)}}{m_{c} + m_{p} \\sin^{2}{\\left(\\theta \\right)}} & 0 & - \\frac{2 l m_{p} \\sin{\\left(\\theta \\right)}}{m_{c} + m_{p} \\sin^{2}{\\left(\\theta \\right)}}\\end{matrix}\\right]$"
      ],
      "text/plain": [
       "⎡0                                                                             ↪\n",
       "⎢                                                                              ↪\n",
       "⎢       2 ⎛              2                                              ⎞    2 ↪\n",
       "⎢   8⋅mₚ ⋅⎝- \\dot{\\theta} ⋅l⋅mₚ⋅sin(\\theta) + 0.5⋅g⋅mₚ⋅sin(2⋅\\theta) + u⎠⋅sin  ↪\n",
       "⎢0  ────────────────────────────────────────────────────────────────────────── ↪\n",
       "⎢                                                             3                ↪\n",
       "⎢                                      ⎛            2        ⎞                 ↪\n",
       "⎢                                      ⎝m_c + mₚ⋅sin (\\theta)⎠                 ↪\n",
       "⎢                                                                              ↪\n",
       "⎢0                                                                             ↪\n",
       "⎢                                                                              ↪\n",
       "⎢                                                                              ↪\n",
       "⎢                                                                              ↪\n",
       "⎢0                                                                             ↪\n",
       "⎢                                                                              ↪\n",
       "⎢                                                                              ↪\n",
       "⎣                                                                              ↪\n",
       "\n",
       "↪                                                                              ↪\n",
       "↪                                                                              ↪\n",
       "↪             2                ⎛              2                                ↪\n",
       "↪ (\\theta)⋅cos (\\theta)   4⋅mₚ⋅⎝- \\dot{\\theta} ⋅l⋅mₚ⋅cos(\\theta) + 1.0⋅g⋅mₚ⋅co ↪\n",
       "↪ ───────────────────── - ──────────────────────────────────────────────────── ↪\n",
       "↪                                                                              ↪\n",
       "↪                                                         ⎛            2       ↪\n",
       "↪                                                         ⎝m_c + mₚ⋅sin (\\thet ↪\n",
       "↪                                                                              ↪\n",
       "↪                                                                              ↪\n",
       "↪                                                                              ↪\n",
       "↪                                                                              ↪\n",
       "↪                                                                              ↪\n",
       "↪                                                                              ↪\n",
       "↪                                                                              ↪\n",
       "↪                                                                              ↪\n",
       "↪                                                                              ↪\n",
       "\n",
       "↪                                                        0                     ↪\n",
       "↪                                                                              ↪\n",
       "↪            ⎞                                ⎛              2                 ↪\n",
       "↪ s(2⋅\\theta)⎠⋅sin(\\theta)⋅cos(\\theta)   2⋅mₚ⋅⎝- \\dot{\\theta} ⋅l⋅mₚ⋅sin(\\theta ↪\n",
       "↪ ──────────────────────────────────── + ───────────────────────────────────── ↪\n",
       "↪    2                                                                         ↪\n",
       "↪   ⎞                                                                ⎛         ↪\n",
       "↪ a)⎠                                                                ⎝m_c + mₚ ↪\n",
       "↪                                                                              ↪\n",
       "↪                                                        0                     ↪\n",
       "↪                                                                              ↪\n",
       "↪                                    2    2                                    ↪\n",
       "↪                 4⋅\\dot{\\theta}⋅l⋅mₚ ⋅sin (\\theta)⋅cos(\\theta)   2⋅\\dot{\\thet ↪\n",
       "↪                 ───────────────────────────────────────────── - ──────────── ↪\n",
       "↪                                                  2                           ↪\n",
       "↪                           ⎛            2        ⎞                    m_c + m ↪\n",
       "↪                           ⎝m_c + mₚ⋅sin (\\theta)⎠                            ↪\n",
       "\n",
       "↪                                                                              ↪\n",
       "↪                                                                              ↪\n",
       "↪                               ⎞    2                ⎛              2         ↪\n",
       "↪ ) + 0.5⋅g⋅mₚ⋅sin(2⋅\\theta) + u⎠⋅sin (\\theta)   2⋅mₚ⋅⎝- \\dot{\\theta} ⋅l⋅mₚ⋅si ↪\n",
       "↪ ──────────────────────────────────────────── - ───────────────────────────── ↪\n",
       "↪               2                                                              ↪\n",
       "↪     2        ⎞                                                             ⎛ ↪\n",
       "↪ ⋅sin (\\theta)⎠                                                             ⎝ ↪\n",
       "↪                                                                              ↪\n",
       "↪                                                                              ↪\n",
       "↪                                                                              ↪\n",
       "↪                                                                              ↪\n",
       "↪ a}⋅l⋅mₚ⋅cos(\\theta)                                                          ↪\n",
       "↪ ───────────────────                                                          ↪\n",
       "↪      2                                                                       ↪\n",
       "↪ ₚ⋅sin (\\theta)                                                               ↪\n",
       "↪                                                                              ↪\n",
       "\n",
       "↪                                                                              ↪\n",
       "↪                                                                              ↪\n",
       "↪                                       ⎞    2                       2         ↪\n",
       "↪ n(\\theta) + 0.5⋅g⋅mₚ⋅sin(2⋅\\theta) + u⎠⋅cos (\\theta)   \\dot{\\theta} ⋅l⋅mₚ⋅si ↪\n",
       "↪ ──────────────────────────────────────────────────── + ───────────────────── ↪\n",
       "↪                       2                                                      ↪\n",
       "↪             2        ⎞                                                  m_c  ↪\n",
       "↪ m_c + mₚ⋅sin (\\theta)⎠                                                       ↪\n",
       "↪                                                                              ↪\n",
       "↪                                                                              ↪\n",
       "↪                                                                              ↪\n",
       "↪                                                                              ↪\n",
       "↪                                                                              ↪\n",
       "↪                                                                              ↪\n",
       "↪                                                                              ↪\n",
       "↪                                                                              ↪\n",
       "↪                                                                              ↪\n",
       "\n",
       "↪                                     0                                        ↪\n",
       "↪                                                                              ↪\n",
       "↪                                                           2    2             ↪\n",
       "↪ n(\\theta) - 2.0⋅g⋅mₚ⋅sin(2⋅\\theta)     4⋅\\dot{\\theta}⋅l⋅mₚ ⋅sin (\\theta)⋅cos ↪\n",
       "↪ ──────────────────────────────────  0  ───────────────────────────────────── ↪\n",
       "↪         2                                                               2    ↪\n",
       "↪ + mₚ⋅sin (\\theta)                                ⎛            2        ⎞     ↪\n",
       "↪                                                  ⎝m_c + mₚ⋅sin (\\theta)⎠     ↪\n",
       "↪                                                                              ↪\n",
       "↪                                     0                                        ↪\n",
       "↪                                                                              ↪\n",
       "↪                                                                              ↪\n",
       "↪                                                                     -2⋅l⋅mₚ⋅ ↪\n",
       "↪                                     0                               ──────── ↪\n",
       "↪                                                                              ↪\n",
       "↪                                                                     m_c + mₚ ↪\n",
       "↪                                                                              ↪\n",
       "\n",
       "↪   0                                       ⎤\n",
       "↪                                           ⎥\n",
       "↪                                           ⎥\n",
       "↪ (\\theta)   2⋅\\dot{\\theta}⋅l⋅mₚ⋅cos(\\theta)⎥\n",
       "↪ ──────── - ───────────────────────────────⎥\n",
       "↪                             2             ⎥\n",
       "↪                 m_c + mₚ⋅sin (\\theta)     ⎥\n",
       "↪                                           ⎥\n",
       "↪                                           ⎥\n",
       "↪   0                                       ⎥\n",
       "↪                                           ⎥\n",
       "↪                                           ⎥\n",
       "↪ sin(\\theta)                               ⎥\n",
       "↪ ─────────────                             ⎥\n",
       "↪     2                                     ⎥\n",
       "↪ ⋅sin (\\theta)                             ⎥\n",
       "↪                                           ⎦"
      ]
     },
     "execution_count": 18,
     "metadata": {},
     "output_type": "execute_result"
    }
   ],
   "source": [
    "f3_dxdx = f3.diff(states).jacobian(states)\n",
    "f3_dxdx"
   ]
  },
  {
   "cell_type": "code",
   "execution_count": 32,
   "metadata": {},
   "outputs": [
    {
     "data": {
      "image/png": "[encoded data removed]",
      "text/latex": [
       "$\\displaystyle - \\frac{2 l m_{p} \\sin{\\left(\\theta \\right)}}{m_{c} + m_{p} \\sin^{2}{\\left(\\theta \\right)}}$"
      ],
      "text/plain": [
       "-2⋅l⋅mₚ⋅sin(\\theta)  \n",
       "─────────────────────\n",
       "            2        \n",
       "m_c + mₚ⋅sin (\\theta)"
      ]
     },
     "execution_count": 32,
     "metadata": {},
     "output_type": "execute_result"
    }
   ],
   "source": [
    "f3_dxdx[3,3]"
   ]
  },
  {
   "cell_type": "code",
   "execution_count": 19,
   "metadata": {},
   "outputs": [
    {
     "data": {
      "image/png": "[encoded data removed]",
      "text/latex": [
       "$\\displaystyle \\left[\\begin{matrix}0 & 0 & 0 & 0\\\\0 & \\frac{8 m_{p}^{2} \\left(- 0.5 \\dot{\\theta}^{2} l m_{p} \\sin{\\left(2 \\theta \\right)} + g \\left(m_{c} + m_{p}\\right) \\sin{\\left(\\theta \\right)} + u \\cos{\\left(\\theta \\right)}\\right) \\sin^{2}{\\left(\\theta \\right)} \\cos^{2}{\\left(\\theta \\right)}}{l \\left(m_{c} + m_{p} \\sin^{2}{\\left(\\theta \\right)}\\right)^{3}} + \\frac{2 m_{p} \\left(- 0.5 \\dot{\\theta}^{2} l m_{p} \\sin{\\left(2 \\theta \\right)} + g \\left(m_{c} + m_{p}\\right) \\sin{\\left(\\theta \\right)} + u \\cos{\\left(\\theta \\right)}\\right) \\sin^{2}{\\left(\\theta \\right)}}{l \\left(m_{c} + m_{p} \\sin^{2}{\\left(\\theta \\right)}\\right)^{2}} - \\frac{2 m_{p} \\left(- 0.5 \\dot{\\theta}^{2} l m_{p} \\sin{\\left(2 \\theta \\right)} + g \\left(m_{c} + m_{p}\\right) \\sin{\\left(\\theta \\right)} + u \\cos{\\left(\\theta \\right)}\\right) \\cos^{2}{\\left(\\theta \\right)}}{l \\left(m_{c} + m_{p} \\sin^{2}{\\left(\\theta \\right)}\\right)^{2}} - \\frac{4 m_{p} \\left(- 1.0 \\dot{\\theta}^{2} l m_{p} \\cos{\\left(2 \\theta \\right)} + g \\left(m_{c} + m_{p}\\right) \\cos{\\left(\\theta \\right)} - u \\sin{\\left(\\theta \\right)}\\right) \\sin{\\left(\\theta \\right)} \\cos{\\left(\\theta \\right)}}{l \\left(m_{c} + m_{p} \\sin^{2}{\\left(\\theta \\right)}\\right)^{2}} + \\frac{2.0 \\dot{\\theta}^{2} l m_{p} \\sin{\\left(2 \\theta \\right)} - g \\left(m_{c} + m_{p}\\right) \\sin{\\left(\\theta \\right)} - u \\cos{\\left(\\theta \\right)}}{l \\left(m_{c} + m_{p} \\sin^{2}{\\left(\\theta \\right)}\\right)} & 0 & \\frac{2.0 \\dot{\\theta} m_{p}^{2} \\sin{\\left(\\theta \\right)} \\sin{\\left(2 \\theta \\right)} \\cos{\\left(\\theta \\right)}}{\\left(m_{c} + m_{p} \\sin^{2}{\\left(\\theta \\right)}\\right)^{2}} - \\frac{2.0 \\dot{\\theta} m_{p} \\cos{\\left(2 \\theta \\right)}}{m_{c} + m_{p} \\sin^{2}{\\left(\\theta \\right)}}\\\\0 & 0 & 0 & 0\\\\0 & \\frac{2.0 \\dot{\\theta} m_{p}^{2} \\sin{\\left(\\theta \\right)} \\sin{\\left(2 \\theta \\right)} \\cos{\\left(\\theta \\right)}}{\\left(m_{c} + m_{p} \\sin^{2}{\\left(\\theta \\right)}\\right)^{2}} - \\frac{2.0 \\dot{\\theta} m_{p} \\cos{\\left(2 \\theta \\right)}}{m_{c} + m_{p} \\sin^{2}{\\left(\\theta \\right)}} & 0 & - \\frac{1.0 m_{p} \\sin{\\left(2 \\theta \\right)}}{m_{c} + m_{p} \\sin^{2}{\\left(\\theta \\right)}}\\end{matrix}\\right]$"
      ],
      "text/plain": [
       "⎡0                                                                             ↪\n",
       "⎢                                                                              ↪\n",
       "⎢       2 ⎛                  2                                                 ↪\n",
       "⎢   8⋅mₚ ⋅⎝- 0.5⋅\\dot{\\theta} ⋅l⋅mₚ⋅sin(2⋅\\theta) + g⋅(m_c + mₚ)⋅sin(\\theta) + ↪\n",
       "⎢0  ────────────────────────────────────────────────────────────────────────── ↪\n",
       "⎢                                                                        3     ↪\n",
       "⎢                                                 ⎛            2        ⎞      ↪\n",
       "⎢                                               l⋅⎝m_c + mₚ⋅sin (\\theta)⎠      ↪\n",
       "⎢                                                                              ↪\n",
       "⎢0                                                                             ↪\n",
       "⎢                                                                              ↪\n",
       "⎢                                                                              ↪\n",
       "⎢                                                                              ↪\n",
       "⎢0                                                                             ↪\n",
       "⎢                                                                              ↪\n",
       "⎢                                                                              ↪\n",
       "⎣                                                                              ↪\n",
       "\n",
       "↪                                                                              ↪\n",
       "↪                                                                              ↪\n",
       "↪               ⎞    2            2                ⎛                  2        ↪\n",
       "↪  u⋅cos(\\theta)⎠⋅sin (\\theta)⋅cos (\\theta)   2⋅mₚ⋅⎝- 0.5⋅\\dot{\\theta} ⋅l⋅mₚ⋅s ↪\n",
       "↪ ───────────────────────────────────────── + ──────────────────────────────── ↪\n",
       "↪                                                                              ↪\n",
       "↪                                                                              ↪\n",
       "↪                                                                              ↪\n",
       "↪                                                                              ↪\n",
       "↪                                                                              ↪\n",
       "↪                                                                              ↪\n",
       "↪                                                                              ↪\n",
       "↪                                                                              ↪\n",
       "↪                                                                              ↪\n",
       "↪                                                                              ↪\n",
       "↪                                                                              ↪\n",
       "↪                                                                              ↪\n",
       "\n",
       "↪                                                                              ↪\n",
       "↪                                                                              ↪\n",
       "↪                                                        ⎞    2                ↪\n",
       "↪ in(2⋅\\theta) + g⋅(m_c + mₚ)⋅sin(\\theta) + u⋅cos(\\theta)⎠⋅sin (\\theta)   2⋅mₚ ↪\n",
       "↪ ───────────────────────────────────────────────────────────────────── - ──── ↪\n",
       "↪                               2                                              ↪\n",
       "↪        ⎛            2        ⎞                                               ↪\n",
       "↪      l⋅⎝m_c + mₚ⋅sin (\\theta)⎠                                               ↪\n",
       "↪                                                                              ↪\n",
       "↪                                                                              ↪\n",
       "↪                                                                              ↪\n",
       "↪                                                                              ↪\n",
       "↪                                                                2.0⋅\\dot{\\the ↪\n",
       "↪                                                                ───────────── ↪\n",
       "↪                                                                              ↪\n",
       "↪                                                                              ↪\n",
       "↪                                                                              ↪\n",
       "\n",
       "↪                                  0                                           ↪\n",
       "↪                                                                              ↪\n",
       "↪  ⎛                  2                                                        ↪\n",
       "↪ ⋅⎝- 0.5⋅\\dot{\\theta} ⋅l⋅mₚ⋅sin(2⋅\\theta) + g⋅(m_c + mₚ)⋅sin(\\theta) + u⋅cos( ↪\n",
       "↪ ──────────────────────────────────────────────────────────────────────────── ↪\n",
       "↪                                                           2                  ↪\n",
       "↪                                    ⎛            2        ⎞                   ↪\n",
       "↪                                  l⋅⎝m_c + mₚ⋅sin (\\theta)⎠                   ↪\n",
       "↪                                                                              ↪\n",
       "↪                                  0                                           ↪\n",
       "↪                                                                              ↪\n",
       "↪       2                                                                      ↪\n",
       "↪ ta}⋅mₚ ⋅sin(\\theta)⋅sin(2⋅\\theta)⋅cos(\\theta)   2.0⋅\\dot{\\theta}⋅mₚ⋅cos(2⋅\\t ↪\n",
       "↪ ───────────────────────────────────────────── - ──────────────────────────── ↪\n",
       "↪                            2                                      2          ↪\n",
       "↪     ⎛            2        ⎞                           m_c + mₚ⋅sin (\\theta)  ↪\n",
       "↪     ⎝m_c + mₚ⋅sin (\\theta)⎠                                                  ↪\n",
       "\n",
       "↪                                                                              ↪\n",
       "↪                                                                              ↪\n",
       "↪        ⎞    2                ⎛                  2                            ↪\n",
       "↪ \\theta)⎠⋅cos (\\theta)   4⋅mₚ⋅⎝- 1.0⋅\\dot{\\theta} ⋅l⋅mₚ⋅cos(2⋅\\theta) + g⋅(m_ ↪\n",
       "↪ ───────────────────── - ──────────────────────────────────────────────────── ↪\n",
       "↪                                                                              ↪\n",
       "↪                                                                      ⎛       ↪\n",
       "↪                                                                    l⋅⎝m_c +  ↪\n",
       "↪                                                                              ↪\n",
       "↪                                                                              ↪\n",
       "↪                                                                              ↪\n",
       "↪                                                                              ↪\n",
       "↪ heta)                                                                        ↪\n",
       "↪ ─────                                                                        ↪\n",
       "↪                                                                              ↪\n",
       "↪                                                                              ↪\n",
       "↪                                                                              ↪\n",
       "\n",
       "↪                                                                              ↪\n",
       "↪                                                                              ↪\n",
       "↪                                    ⎞                                         ↪\n",
       "↪ c + mₚ)⋅cos(\\theta) - u⋅sin(\\theta)⎠⋅sin(\\theta)⋅cos(\\theta)   2.0⋅\\dot{\\the ↪\n",
       "↪ ──────────────────────────────────────────────────────────── + ───────────── ↪\n",
       "↪                 2                                                            ↪\n",
       "↪       2        ⎞                                                             ↪\n",
       "↪ mₚ⋅sin (\\theta)⎠                                                             ↪\n",
       "↪                                                                              ↪\n",
       "↪                                                                              ↪\n",
       "↪                                                                              ↪\n",
       "↪                                                                              ↪\n",
       "↪                                                                              ↪\n",
       "↪                                                                              ↪\n",
       "↪                                                                              ↪\n",
       "↪                                                                              ↪\n",
       "↪                                                                              ↪\n",
       "\n",
       "↪                                                                     0        ↪\n",
       "↪                                                                              ↪\n",
       "↪    2                                                                         ↪\n",
       "↪ ta} ⋅l⋅mₚ⋅sin(2⋅\\theta) - g⋅(m_c + mₚ)⋅sin(\\theta) - u⋅cos(\\theta)     2.0⋅\\ ↪\n",
       "↪ ──────────────────────────────────────────────────────────────────  0  ───── ↪\n",
       "↪                 ⎛            2        ⎞                                      ↪\n",
       "↪               l⋅⎝m_c + mₚ⋅sin (\\theta)⎠                                      ↪\n",
       "↪                                                                              ↪\n",
       "↪                                                                              ↪\n",
       "↪                                                                     0        ↪\n",
       "↪                                                                              ↪\n",
       "↪                                                                              ↪\n",
       "↪                                                                              ↪\n",
       "↪                                                                     0        ↪\n",
       "↪                                                                              ↪\n",
       "↪                                                                              ↪\n",
       "↪                                                                              ↪\n",
       "\n",
       "↪                                          0                                   ↪\n",
       "↪                                                                              ↪\n",
       "↪               2                                                              ↪\n",
       "↪ dot{\\theta}⋅mₚ ⋅sin(\\theta)⋅sin(2⋅\\theta)⋅cos(\\theta)   2.0⋅\\dot{\\theta}⋅mₚ⋅ ↪\n",
       "↪ ───────────────────────────────────────────────────── - ──────────────────── ↪\n",
       "↪                                    2                                      2  ↪\n",
       "↪             ⎛            2        ⎞                           m_c + mₚ⋅sin ( ↪\n",
       "↪             ⎝m_c + mₚ⋅sin (\\theta)⎠                                          ↪\n",
       "↪                                                                              ↪\n",
       "↪                                          0                                   ↪\n",
       "↪                                                                              ↪\n",
       "↪                                                                              ↪\n",
       "↪                                -1.0⋅mₚ⋅sin(2⋅\\theta)                         ↪\n",
       "↪                                ──────────────────────                        ↪\n",
       "↪                                            2                                 ↪\n",
       "↪                                m_c + mₚ⋅sin (\\theta)                         ↪\n",
       "↪                                                                              ↪\n",
       "\n",
       "↪              ⎤\n",
       "↪              ⎥\n",
       "↪              ⎥\n",
       "↪ cos(2⋅\\theta)⎥\n",
       "↪ ─────────────⎥\n",
       "↪              ⎥\n",
       "↪ \\theta)      ⎥\n",
       "↪              ⎥\n",
       "↪              ⎥\n",
       "↪              ⎥\n",
       "↪              ⎥\n",
       "↪              ⎥\n",
       "↪              ⎥\n",
       "↪              ⎥\n",
       "↪              ⎥\n",
       "↪              ⎥\n",
       "↪              ⎦"
      ]
     },
     "execution_count": 19,
     "metadata": {},
     "output_type": "execute_result"
    }
   ],
   "source": [
    "f4_dxdx = f4.diff(states).jacobian(states)\n",
    "f4_dxdx"
   ]
  },
  {
   "cell_type": "code",
   "execution_count": 35,
   "metadata": {},
   "outputs": [
    {
     "data": {
      "image/png": "[encoded data removed]",
      "text/latex": [
       "$\\displaystyle - \\frac{1.0 m_{p} \\sin{\\left(2 \\theta \\right)}}{m_{c} + m_{p} \\sin^{2}{\\left(\\theta \\right)}}$"
      ],
      "text/plain": [
       "-1.0⋅mₚ⋅sin(2⋅\\theta) \n",
       "──────────────────────\n",
       "            2         \n",
       "m_c + mₚ⋅sin (\\theta) "
      ]
     },
     "execution_count": 35,
     "metadata": {},
     "output_type": "execute_result"
    }
   ],
   "source": [
    "f4_dxdx[3,3]"
   ]
  },
  {
   "cell_type": "markdown",
   "metadata": {},
   "source": [
    "# d^2f/dxdu"
   ]
  },
  {
   "cell_type": "code",
   "execution_count": 20,
   "metadata": {},
   "outputs": [
    {
     "data": {
      "image/png": "[encoded data removed]",
      "text/latex": [
       "$\\displaystyle \\left[\\begin{matrix}0\\\\0\\\\0\\\\0\\end{matrix}\\right]$"
      ],
      "text/plain": [
       "⎡0⎤\n",
       "⎢ ⎥\n",
       "⎢0⎥\n",
       "⎢ ⎥\n",
       "⎢0⎥\n",
       "⎢ ⎥\n",
       "⎣0⎦"
      ]
     },
     "execution_count": 20,
     "metadata": {},
     "output_type": "execute_result"
    }
   ],
   "source": [
    "f1_dxdu = f1.diff(states).jacobian(controls)\n",
    "f1_dxdu"
   ]
  },
  {
   "cell_type": "code",
   "execution_count": 21,
   "metadata": {},
   "outputs": [
    {
     "data": {
      "image/png": "[encoded data removed]",
      "text/latex": [
       "$\\displaystyle \\left[\\begin{matrix}0\\\\0\\\\0\\\\0\\end{matrix}\\right]$"
      ],
      "text/plain": [
       "⎡0⎤\n",
       "⎢ ⎥\n",
       "⎢0⎥\n",
       "⎢ ⎥\n",
       "⎢0⎥\n",
       "⎢ ⎥\n",
       "⎣0⎦"
      ]
     },
     "execution_count": 21,
     "metadata": {},
     "output_type": "execute_result"
    }
   ],
   "source": [
    "f2_dxdu = f2.diff(states).jacobian(controls)\n",
    "f2_dxdu"
   ]
  },
  {
   "cell_type": "code",
   "execution_count": 22,
   "metadata": {},
   "outputs": [
    {
     "data": {
      "image/png": "[encoded data removed]",
      "text/latex": [
       "$\\displaystyle \\left[\\begin{matrix}0\\\\- \\frac{2 m_{p} \\sin{\\left(\\theta \\right)} \\cos{\\left(\\theta \\right)}}{\\left(m_{c} + m_{p} \\sin^{2}{\\left(\\theta \\right)}\\right)^{2}}\\\\0\\\\0\\end{matrix}\\right]$"
      ],
      "text/plain": [
       "⎡              0               ⎤\n",
       "⎢                              ⎥\n",
       "⎢-2⋅mₚ⋅sin(\\theta)⋅cos(\\theta) ⎥\n",
       "⎢──────────────────────────────⎥\n",
       "⎢                          2   ⎥\n",
       "⎢   ⎛            2        ⎞    ⎥\n",
       "⎢   ⎝m_c + mₚ⋅sin (\\theta)⎠    ⎥\n",
       "⎢                              ⎥\n",
       "⎢              0               ⎥\n",
       "⎢                              ⎥\n",
       "⎣              0               ⎦"
      ]
     },
     "execution_count": 22,
     "metadata": {},
     "output_type": "execute_result"
    }
   ],
   "source": [
    "f3_dxdu = f3.diff(states).jacobian(controls)\n",
    "f3_dxdu"
   ]
  },
  {
   "cell_type": "code",
   "execution_count": 23,
   "metadata": {},
   "outputs": [
    {
     "data": {
      "image/png": "[encoded data removed]",
      "text/latex": [
       "$\\displaystyle \\left[\\begin{matrix}0\\\\- \\frac{2 m_{p} \\sin{\\left(\\theta \\right)} \\cos^{2}{\\left(\\theta \\right)}}{l \\left(m_{c} + m_{p} \\sin^{2}{\\left(\\theta \\right)}\\right)^{2}} - \\frac{\\sin{\\left(\\theta \\right)}}{l \\left(m_{c} + m_{p} \\sin^{2}{\\left(\\theta \\right)}\\right)}\\\\0\\\\0\\end{matrix}\\right]$"
      ],
      "text/plain": [
       "⎡                             0                             ⎤\n",
       "⎢                                                           ⎥\n",
       "⎢                      2                                    ⎥\n",
       "⎢  2⋅mₚ⋅sin(\\theta)⋅cos (\\theta)          sin(\\theta)       ⎥\n",
       "⎢- ───────────────────────────── - ─────────────────────────⎥\n",
       "⎢                            2       ⎛            2        ⎞⎥\n",
       "⎢     ⎛            2        ⎞      l⋅⎝m_c + mₚ⋅sin (\\theta)⎠⎥\n",
       "⎢   l⋅⎝m_c + mₚ⋅sin (\\theta)⎠                               ⎥\n",
       "⎢                                                           ⎥\n",
       "⎢                             0                             ⎥\n",
       "⎢                                                           ⎥\n",
       "⎣                             0                             ⎦"
      ]
     },
     "execution_count": 23,
     "metadata": {},
     "output_type": "execute_result"
    }
   ],
   "source": [
    "f4_dxdu = f4.diff(states).jacobian(controls)\n",
    "f4_dxdu"
   ]
  }
 ],
 "metadata": {
  "kernelspec": {
   "display_name": "py311_ml",
   "language": "python",
   "name": "python3"
  },
  "language_info": {
   "codemirror_mode": {
    "name": "ipython",
    "version": 3
   },
   "file_extension": ".py",
   "mimetype": "text/x-python",
   "name": "python",
   "nbconvert_exporter": "python",
   "pygments_lexer": "ipython3",
   "version": "3.11.9"
  }
 },
 "nbformat": 4,
 "nbformat_minor": 2
}
