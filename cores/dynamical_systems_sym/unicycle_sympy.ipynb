{
 "cells": [
  {
   "cell_type": "code",
   "execution_count": 1,
   "metadata": {},
   "outputs": [],
   "source": [
    "import sympy as sp\n",
    "from sympy import init_printing\n",
    "init_printing()\n",
    "import sys\n",
    "from pathlib import Path\n",
    "sys.path.append(str(Path.cwd().parent.parent))\n",
    "from cores.dynamical_systems.unicycle_circle_following import UnicycleCircleFollowing\n",
    "import torch\n",
    "import numpy as np"
   ]
  },
  {
   "cell_type": "code",
   "execution_count": 2,
   "metadata": {},
   "outputs": [],
   "source": [
    "path_radius = 10.0\n",
    "linear_velocity = 2.0"
   ]
  },
  {
   "cell_type": "code",
   "execution_count": 3,
   "metadata": {},
   "outputs": [],
   "source": [
    "system_torch = UnicycleCircleFollowing(path_radius=path_radius, linear_velocity=linear_velocity, dtype=torch.float32)"
   ]
  },
  {
   "cell_type": "code",
   "execution_count": 4,
   "metadata": {},
   "outputs": [],
   "source": [
    "d_e, theta_e = sp.symbols(r'd_e \\theta_e')\n",
    "u = sp.symbols(r'u')\n",
    "states = sp.Matrix([d_e, theta_e])\n",
    "controls = sp.Matrix([u])"
   ]
  },
  {
   "cell_type": "code",
   "execution_count": 5,
   "metadata": {},
   "outputs": [],
   "source": [
    "f1 = linear_velocity * sp.sin(theta_e)\n",
    "f2 = linear_velocity/path_radius - linear_velocity*sp.cos(theta_e)/(path_radius - d_e) + u\n",
    "\n",
    "f = sp.Matrix([f1, f2])"
   ]
  },
  {
   "cell_type": "markdown",
   "metadata": {},
   "source": [
    "# Test f(x,u)"
   ]
  },
  {
   "cell_type": "code",
   "execution_count": 6,
   "metadata": {},
   "outputs": [
    {
     "name": "stdout",
     "output_type": "stream",
     "text": [
      "[[1.8185948]\n",
      " [3.2924771]]\n"
     ]
    }
   ],
   "source": [
    "f_func = sp.lambdify((states, controls), f)\n",
    "state_np = np.array([1., 2.], dtype=np.float32)\n",
    "control_np = np.array([3.], dtype=np.float32)\n",
    "print(f_func(state_np, control_np))\n"
   ]
  },
  {
   "cell_type": "code",
   "execution_count": 7,
   "metadata": {},
   "outputs": [
    {
     "name": "stdout",
     "output_type": "stream",
     "text": [
      "tensor([[1.8186, 3.2925]])\n"
     ]
    }
   ],
   "source": [
    "state_torch = torch.tensor(state_np, dtype=torch.float32).unsqueeze(0)\n",
    "control_torch = torch.tensor(control_np, dtype=torch.float32).unsqueeze(0)\n",
    "f_torch = system_torch(state_torch, control_torch)\n",
    "print(f_torch)"
   ]
  },
  {
   "cell_type": "markdown",
   "metadata": {},
   "source": [
    "# Test df/dx"
   ]
  },
  {
   "cell_type": "code",
   "execution_count": 8,
   "metadata": {},
   "outputs": [
    {
     "name": "stdout",
     "output_type": "stream",
     "text": [
      "[[ 0.         -0.83229363]\n",
      " [ 0.01027523  0.20206609]]\n"
     ]
    }
   ],
   "source": [
    "df_dx = f.jacobian(states)\n",
    "df_dx_func = sp.lambdify((states, controls), df_dx)\n",
    "print(df_dx_func(state_np, control_np))"
   ]
  },
  {
   "cell_type": "code",
   "execution_count": 9,
   "metadata": {},
   "outputs": [
    {
     "name": "stdout",
     "output_type": "stream",
     "text": [
      "tensor([[[ 0.0000, -0.8323],\n",
      "         [ 0.0103,  0.2021]]])\n"
     ]
    }
   ],
   "source": [
    "df_dx_torch = system_torch.f_dx(state_torch, control_torch)\n",
    "print(df_dx_torch)"
   ]
  },
  {
   "cell_type": "markdown",
   "metadata": {},
   "source": [
    "# Test df/du"
   ]
  },
  {
   "cell_type": "code",
   "execution_count": 10,
   "metadata": {},
   "outputs": [
    {
     "name": "stdout",
     "output_type": "stream",
     "text": [
      "[[0]\n",
      " [1]]\n"
     ]
    }
   ],
   "source": [
    "df_du = f.jacobian(controls)\n",
    "df_du_func = sp.lambdify((states, controls), df_du)\n",
    "print(df_du_func(state_np, control_np))"
   ]
  },
  {
   "cell_type": "code",
   "execution_count": 11,
   "metadata": {},
   "outputs": [
    {
     "name": "stdout",
     "output_type": "stream",
     "text": [
      "tensor([[[0.],\n",
      "         [1.]]])\n"
     ]
    }
   ],
   "source": [
    "df_du_torch = system_torch.f_du(state_torch, control_torch)\n",
    "print(df_du_torch)"
   ]
  },
  {
   "cell_type": "markdown",
   "metadata": {},
   "source": [
    "# d^2f/dx^2"
   ]
  },
  {
   "cell_type": "code",
   "execution_count": 12,
   "metadata": {},
   "outputs": [
    {
     "name": "stdout",
     "output_type": "stream",
     "text": [
      "Matrix([[0, 0], [0, -2.0*sin(\\theta_e)]])\n"
     ]
    }
   ],
   "source": [
    "f1_dxdx = f1.diff(states).jacobian(states)\n",
    "print(f1_dxdx)"
   ]
  },
  {
   "cell_type": "code",
   "execution_count": 13,
   "metadata": {},
   "outputs": [
    {
     "name": "stdout",
     "output_type": "stream",
     "text": [
      "Matrix([[-0.004*cos(\\theta_e)/(1 - 0.1*d_e)**3, 0.02*sin(\\theta_e)/(1 - 0.1*d_e)**2], [0.02*sin(\\theta_e)/(1 - 0.1*d_e)**2, 2.0*cos(\\theta_e)/(10.0 - d_e)]])\n"
     ]
    }
   ],
   "source": [
    "f2_dxdx = f2.diff(states).jacobian(states)\n",
    "print(f2_dxdx)"
   ]
  }
 ],
 "metadata": {
  "kernelspec": {
   "display_name": "py311_ml",
   "language": "python",
   "name": "python3"
  },
  "language_info": {
   "codemirror_mode": {
    "name": "ipython",
    "version": 3
   },
   "file_extension": ".py",
   "mimetype": "text/x-python",
   "name": "python",
   "nbconvert_exporter": "python",
   "pygments_lexer": "ipython3",
   "version": "3.11.9"
  }
 },
 "nbformat": 4,
 "nbformat_minor": 2
}
