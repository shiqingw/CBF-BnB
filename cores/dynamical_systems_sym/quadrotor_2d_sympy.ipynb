{
 "cells": [
  {
   "cell_type": "code",
   "execution_count": 6,
   "metadata": {},
   "outputs": [],
   "source": [
    "import sympy as sp\n",
    "from sympy import init_printing\n",
    "init_printing()\n",
    "import sys\n",
    "from pathlib import Path\n",
    "sys.path.append(str(Path.cwd().parent.parent))\n",
    "from cores.dynamical_systems.quadrotor_2d import Quadrotor2D\n",
    "import torch\n",
    "import numpy as np"
   ]
  },
  {
   "cell_type": "code",
   "execution_count": 26,
   "metadata": {},
   "outputs": [],
   "source": [
    "mass = 2.0\n",
    "inertia = 0.2\n",
    "arm_length = 0.4\n",
    "gravity = 9.81"
   ]
  },
  {
   "cell_type": "code",
   "execution_count": 27,
   "metadata": {},
   "outputs": [],
   "source": [
    "system_torch = Quadrotor2D(mass, inertia, arm_length, torch.float32)"
   ]
  },
  {
   "cell_type": "code",
   "execution_count": 28,
   "metadata": {},
   "outputs": [],
   "source": [
    "x, y, theta, x_dot, y_dot, theta_dot = sp.symbols(r'x y \\theta \\dot{x} \\dot{y} \\dot{\\theta}')\n",
    "u1, u2 = sp.symbols(r'u_1, u_2')\n",
    "states = sp.Matrix([x, y, theta, x_dot, y_dot, theta_dot])\n",
    "controls = sp.Matrix([u1, u2])"
   ]
  },
  {
   "cell_type": "code",
   "execution_count": 29,
   "metadata": {},
   "outputs": [],
   "source": [
    "f1 = x_dot\n",
    "f2 = y_dot\n",
    "f3 = theta_dot\n",
    "sin_theta = sp.sin(theta)\n",
    "cos_theta = sp.cos(theta)\n",
    "f4 = -(u1 + u2) * sin_theta / mass - gravity * sin_theta\n",
    "f5 = (u1 + u2) * cos_theta / mass + gravity * (cos_theta - 1)\n",
    "f6 = arm_length * (- u1 + u2) / inertia\n",
    "f = sp.Matrix([f1, f2, f3, f4, f5, f6])"
   ]
  },
  {
   "cell_type": "markdown",
   "metadata": {},
   "source": [
    "# Test f(x,u)"
   ]
  },
  {
   "cell_type": "code",
   "execution_count": 30,
   "metadata": {},
   "outputs": [
    {
     "name": "stdout",
     "output_type": "stream",
     "text": [
      "[[  4.       ]\n",
      " [  5.       ]\n",
      " [  6.       ]\n",
      " [ -2.4427872]\n",
      " [-26.946774 ]\n",
      " [  2.       ]]\n"
     ]
    }
   ],
   "source": [
    "f_func = sp.lambdify((states, controls), f)\n",
    "state_np = np.array([1., 2., 3., 4., 5., 6.], dtype=np.float32)\n",
    "control_np = np.array([7., 8.], dtype=np.float32)\n",
    "print(f_func(state_np, control_np))\n"
   ]
  },
  {
   "cell_type": "code",
   "execution_count": 31,
   "metadata": {},
   "outputs": [
    {
     "name": "stdout",
     "output_type": "stream",
     "text": [
      "tensor([[  4.0000,   5.0000,   6.0000,  -2.4428, -26.9468,   2.0000]])\n"
     ]
    }
   ],
   "source": [
    "state_torch = torch.tensor(state_np, dtype=torch.float32).unsqueeze(0)\n",
    "control_torch = torch.tensor(control_np, dtype=torch.float32).unsqueeze(0)\n",
    "f_torch = system_torch(state_torch, control_torch)\n",
    "print(f_torch)"
   ]
  },
  {
   "cell_type": "markdown",
   "metadata": {},
   "source": [
    "# Test df/dx"
   ]
  },
  {
   "cell_type": "code",
   "execution_count": 32,
   "metadata": {},
   "outputs": [
    {
     "name": "stdout",
     "output_type": "stream",
     "text": [
      "[[ 0.          0.          0.          1.          0.          0.        ]\n",
      " [ 0.          0.          0.          0.          1.          0.        ]\n",
      " [ 0.          0.          0.          0.          0.          1.        ]\n",
      " [ 0.          0.         17.13677216  0.          0.          0.        ]\n",
      " [ 0.          0.         -2.44278717  0.          0.          0.        ]\n",
      " [ 0.          0.          0.          0.          0.          0.        ]]\n"
     ]
    }
   ],
   "source": [
    "df_dx = f.jacobian(states)\n",
    "df_dx_func = sp.lambdify((states, controls), df_dx)\n",
    "print(df_dx_func(state_np, control_np))"
   ]
  },
  {
   "cell_type": "code",
   "execution_count": 34,
   "metadata": {},
   "outputs": [
    {
     "name": "stdout",
     "output_type": "stream",
     "text": [
      "tensor([[[ 0.0000,  0.0000,  0.0000,  1.0000,  0.0000,  0.0000],\n",
      "         [ 0.0000,  0.0000,  0.0000,  0.0000,  1.0000,  0.0000],\n",
      "         [ 0.0000,  0.0000,  0.0000,  0.0000,  0.0000,  1.0000],\n",
      "         [ 0.0000,  0.0000, 17.1368,  0.0000,  0.0000,  0.0000],\n",
      "         [ 0.0000,  0.0000, -2.4428,  0.0000,  0.0000,  0.0000],\n",
      "         [ 0.0000,  0.0000,  0.0000,  0.0000,  0.0000,  0.0000]]])\n"
     ]
    }
   ],
   "source": [
    "df_dx_torch = system_torch.f_dx(state_torch, control_torch)\n",
    "print(df_dx_torch)"
   ]
  },
  {
   "cell_type": "markdown",
   "metadata": {},
   "source": [
    "# Test df/du"
   ]
  },
  {
   "cell_type": "code",
   "execution_count": 35,
   "metadata": {},
   "outputs": [
    {
     "name": "stdout",
     "output_type": "stream",
     "text": [
      "[[ 0.          0.        ]\n",
      " [ 0.          0.        ]\n",
      " [ 0.          0.        ]\n",
      " [-0.07056    -0.07056   ]\n",
      " [-0.49499625 -0.49499625]\n",
      " [-2.          2.        ]]\n"
     ]
    }
   ],
   "source": [
    "df_du = f.jacobian(controls)\n",
    "df_du_func = sp.lambdify((states, controls), df_du)\n",
    "print(df_du_func(state_np, control_np))"
   ]
  },
  {
   "cell_type": "code",
   "execution_count": 36,
   "metadata": {},
   "outputs": [
    {
     "name": "stdout",
     "output_type": "stream",
     "text": [
      "tensor([[[ 0.0000,  0.0000],\n",
      "         [ 0.0000,  0.0000],\n",
      "         [ 0.0000,  0.0000],\n",
      "         [-0.0706, -0.0706],\n",
      "         [-0.4950, -0.4950],\n",
      "         [-2.0000,  2.0000]]])\n"
     ]
    }
   ],
   "source": [
    "df_du_torch = system_torch.f_du(state_torch, control_torch)\n",
    "print(df_du_torch)"
   ]
  },
  {
   "cell_type": "markdown",
   "metadata": {},
   "source": [
    "# d^2f/dx^2"
   ]
  },
  {
   "cell_type": "code",
   "execution_count": 40,
   "metadata": {},
   "outputs": [
    {
     "name": "stdout",
     "output_type": "stream",
     "text": [
      "Matrix([[0, 0, 0, 0, 0, 0], [0, 0, 0, 0, 0, 0], [0, 0, -0.5*(-u_1 - u_2)*sin(\\theta) + 9.81*sin(\\theta), 0, 0, 0], [0, 0, 0, 0, 0, 0], [0, 0, 0, 0, 0, 0], [0, 0, 0, 0, 0, 0]])\n"
     ]
    }
   ],
   "source": [
    "f4_dxdx = f4.diff(states).jacobian(states)\n",
    "print(f4_dxdx)"
   ]
  },
  {
   "cell_type": "code",
   "execution_count": 42,
   "metadata": {},
   "outputs": [
    {
     "name": "stdout",
     "output_type": "stream",
     "text": [
      "Matrix([[0, 0, 0, 0, 0, 0], [0, 0, 0, 0, 0, 0], [0, 0, -0.5*(u_1 + u_2)*cos(\\theta) - 9.81*cos(\\theta), 0, 0, 0], [0, 0, 0, 0, 0, 0], [0, 0, 0, 0, 0, 0], [0, 0, 0, 0, 0, 0]])\n"
     ]
    }
   ],
   "source": [
    "f5_dxdx = f5.diff(states).jacobian(states)\n",
    "print(f5_dxdx)"
   ]
  }
 ],
 "metadata": {
  "kernelspec": {
   "display_name": "py311_ml",
   "language": "python",
   "name": "python3"
  },
  "language_info": {
   "codemirror_mode": {
    "name": "ipython",
    "version": 3
   },
   "file_extension": ".py",
   "mimetype": "text/x-python",
   "name": "python",
   "nbconvert_exporter": "python",
   "pygments_lexer": "ipython3",
   "version": "3.11.9"
  }
 },
 "nbformat": 4,
 "nbformat_minor": 2
}
